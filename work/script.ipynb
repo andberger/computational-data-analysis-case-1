{
 "cells": [
  {
   "cell_type": "code",
   "execution_count": 7,
   "metadata": {},
   "outputs": [],
   "source": [
    "import pandas as pd\n",
    "import numpy as np\n",
    "\n",
    "df = pd.read_csv('dataCase1.csv')\n",
    "data = df.values"
   ]
  },
  {
   "cell_type": "code",
   "execution_count": 12,
   "metadata": {},
   "outputs": [
    {
     "data": {
      "text/plain": [
       "(1100, 101)"
      ]
     },
     "execution_count": 12,
     "metadata": {},
     "output_type": "execute_result"
    }
   ],
   "source": [
    "np.shape(data)"
   ]
  },
  {
   "cell_type": "code",
   "execution_count": 17,
   "metadata": {},
   "outputs": [
    {
     "data": {
      "text/plain": [
       "array([['B', 'A', 'C', 'C', 'H'],\n",
       "       ['B', 'B', 'D', 'B', 'B'],\n",
       "       ['B', 'B', 'B', 'D', 'E'],\n",
       "       ['B', 'B', 'A', 'B', 'D'],\n",
       "       ['A', 'C', 'D', 'D', 'D'],\n",
       "       ['B', 'B', 'B', 'D', 'D'],\n",
       "       ['B', 'B', 'B', 'A', 'E'],\n",
       "       ['A', 'A', 'D', 'D', 'A'],\n",
       "       ['A', 'A', 'C', 'B', nan],\n",
       "       ['A', 'B', 'C', 'A', 'E'],\n",
       "       ['B', 'A', 'D', 'D', 'D'],\n",
       "       ['A', 'C', 'D', 'A', 'A'],\n",
       "       ['A', 'C', 'A', 'C', nan],\n",
       "       ['A', 'B', 'B', 'C', 'H'],\n",
       "       ['B', 'C', 'B', 'A', 'E'],\n",
       "       ['B', 'A', 'D', 'C', 'H'],\n",
       "       ['A', 'B', 'B', 'D', 'C'],\n",
       "       ['B', 'C', 'A', 'D', 'F'],\n",
       "       ['A', 'C', 'C', 'D', 'H'],\n",
       "       ['A', 'B', 'A', 'D', 'H'],\n",
       "       ['B', 'C', 'C', 'D', 'H'],\n",
       "       ['A', 'A', 'D', 'C', 'E'],\n",
       "       ['A', 'A', 'D', 'D', 'A'],\n",
       "       ['B', 'C', 'D', 'C', 'C'],\n",
       "       ['B', 'B', 'D', 'A', 'D']], dtype=object)"
      ]
     },
     "execution_count": 17,
     "metadata": {},
     "output_type": "execute_result"
    }
   ],
   "source": [
    "data[0:25, 96:101]"
   ]
  },
  {
   "cell_type": "code",
   "execution_count": 31,
   "metadata": {},
   "outputs": [
    {
     "data": {
      "text/plain": [
       "float"
      ]
     },
     "execution_count": 31,
     "metadata": {},
     "output_type": "execute_result"
    }
   ],
   "source": [
    "type(data[8][100])"
   ]
  },
  {
   "cell_type": "code",
   "execution_count": 33,
   "metadata": {},
   "outputs": [],
   "source": [
    "y = data[:100, 0]\n",
    "X = data[:100, 1:]"
   ]
  },
  {
   "cell_type": "code",
   "execution_count": 38,
   "metadata": {},
   "outputs": [
    {
     "data": {
      "text/plain": [
       "(100,)"
      ]
     },
     "execution_count": 38,
     "metadata": {},
     "output_type": "execute_result"
    }
   ],
   "source": [
    "np.shape(y)"
   ]
  },
  {
   "cell_type": "code",
   "execution_count": 135,
   "metadata": {},
   "outputs": [
    {
     "data": {
      "text/plain": [
       "array(['H', 'B', 'E', 'D', 'D', 'D', 'E', 'A', nan, 'E', 'D', 'A', nan,\n",
       "       'H', 'E', 'H', 'C', 'F', 'H', 'H', 'H', 'E', 'A', 'C', 'D', 'B',\n",
       "       'A', 'B', 'H', 'F', 'C', 'B', 'F', 'G', 'A', 'E', 'G', 'F', 'D',\n",
       "       'G', 'A', 'H', 'A', 'H', 'B', 'G', 'F', 'B', 'F', 'B', 'D', 'F',\n",
       "       'C', 'G', 'B', 'D', 'G', 'E', 'G', 'H', 'F', 'D', 'G', 'D', 'B',\n",
       "       'G', 'B', 'D', 'F', 'H', 'C', 'E', 'G', 'C', 'D', 'A', 'G', 'D',\n",
       "       'A', 'A', 'A', 'F', 'E', 'H', 'B', 'F', 'B', 'H', 'B', 'E', 'D',\n",
       "       'G', 'E', 'A', 'C', 'E', 'C', 'G', 'E', 'F'], dtype=object)"
      ]
     },
     "execution_count": 135,
     "metadata": {},
     "output_type": "execute_result"
    }
   ],
   "source": [
    "X[:, 99]"
   ]
  },
  {
   "cell_type": "code",
   "execution_count": 73,
   "metadata": {},
   "outputs": [
    {
     "data": {
      "text/plain": [
       "True"
      ]
     },
     "execution_count": 73,
     "metadata": {},
     "output_type": "execute_result"
    }
   ],
   "source": [
    "np.isnan(np.nan)"
   ]
  },
  {
   "cell_type": "code",
   "execution_count": 134,
   "metadata": {},
   "outputs": [
    {
     "data": {
      "text/plain": [
       "D    153\n",
       "B    152\n",
       "G    150\n",
       "E    143\n",
       "H    142\n",
       "A    132\n",
       "F    131\n",
       "C     88\n",
       "Name: X100, dtype: int64"
      ]
     },
     "execution_count": 134,
     "metadata": {},
     "output_type": "execute_result"
    }
   ],
   "source": [
    "df['X100'].value_counts()"
   ]
  },
  {
   "cell_type": "code",
   "execution_count": 85,
   "metadata": {},
   "outputs": [
    {
     "data": {
      "text/plain": [
       "False"
      ]
     },
     "execution_count": 85,
     "metadata": {},
     "output_type": "execute_result"
    }
   ],
   "source": [
    "pd.isnull(df['X97'][54])"
   ]
  }
 ],
 "metadata": {
  "kernelspec": {
   "display_name": "Python 3",
   "language": "python",
   "name": "python3"
  },
  "language_info": {
   "codemirror_mode": {
    "name": "ipython",
    "version": 3
   },
   "file_extension": ".py",
   "mimetype": "text/x-python",
   "name": "python",
   "nbconvert_exporter": "python",
   "pygments_lexer": "ipython3",
   "version": "3.7.2"
  }
 },
 "nbformat": 4,
 "nbformat_minor": 2
}
